{
 "cells": [
  {
   "cell_type": "code",
   "execution_count": 4,
   "metadata": {},
   "outputs": [
    {
     "name": "stdout",
     "output_type": "stream",
     "text": [
      " * Serving Flask app '__main__'\n",
      " * Debug mode: off\n"
     ]
    },
    {
     "name": "stderr",
     "output_type": "stream",
     "text": [
      "\u001b[31m\u001b[1mWARNING: This is a development server. Do not use it in a production deployment. Use a production WSGI server instead.\u001b[0m\n",
      " * Running on http://127.0.0.1:5000\n",
      "\u001b[33mPress CTRL+C to quit\u001b[0m\n",
      "Exception in thread Thread-4:\n",
      "Traceback (most recent call last):\n",
      "  File \"/opt/anaconda3/envs/new_env/lib/python3.12/threading.py\", line 1075, in _bootstrap_inner\n",
      "    self.run()\n",
      "  File \"/opt/anaconda3/envs/new_env/lib/python3.12/threading.py\", line 1433, in run\n",
      "    self.function(*self.args, **self.kwargs)\n",
      "  File \"/opt/anaconda3/envs/new_env/lib/python3.12/site-packages/flask_ngrok.py\", line 70, in start_ngrok\n",
      "    ngrok_address = _run_ngrok()\n",
      "                    ^^^^^^^^^^^^\n",
      "  File \"/opt/anaconda3/envs/new_env/lib/python3.12/site-packages/flask_ngrok.py\", line 31, in _run_ngrok\n",
      "    ngrok = subprocess.Popen([executable, 'http', '5000'])\n",
      "            ^^^^^^^^^^^^^^^^^^^^^^^^^^^^^^^^^^^^^^^^^^^^^^\n",
      "  File \"/opt/anaconda3/envs/new_env/lib/python3.12/subprocess.py\", line 1026, in __init__\n",
      "    self._execute_child(args, executable, preexec_fn, close_fds,\n",
      "  File \"/opt/anaconda3/envs/new_env/lib/python3.12/subprocess.py\", line 1955, in _execute_child\n",
      "    raise child_exception_type(errno_num, err_msg, err_filename)\n",
      "PermissionError: [Errno 13] Permission denied: '/var/folders/j0/tddr1c_d5xv2vv6jr49zl4lc0000gn/T/ngrok/ngrok'\n",
      "127.0.0.1 - - [12/Dec/2024 18:57:05] \"GET /greet HTTP/1.1\" 200 -\n",
      "127.0.0.1 - - [12/Dec/2024 18:57:39] \"\u001b[31m\u001b[1mPOST /predict HTTP/1.1\u001b[0m\" 415 -\n",
      "/opt/anaconda3/envs/new_env/lib/python3.12/site-packages/sklearn/utils/validation.py:2739: UserWarning: X does not have valid feature names, but RandomForestRegressor was fitted with feature names\n",
      "  warnings.warn(\n",
      "127.0.0.1 - - [12/Dec/2024 18:59:27] \"POST /predict HTTP/1.1\" 200 -\n"
     ]
    }
   ],
   "source": [
    "from flask import Flask, request, jsonify\n",
    "from flask_ngrok import run_with_ngrok\n",
    "from flask_cors import CORS\n",
    "import pandas as pd\n",
    "import numpy as np\n",
    "from sklearn.ensemble import RandomForestRegressor\n",
    "import joblib\n",
    "\n",
    "# Load the trained model\n",
    "model = joblib.load(\"heat_capacity_model.pkl\")\n",
    "\n",
    "# Create Flask app instance\n",
    "app = Flask(__name__)\n",
    "CORS(app)\n",
    "\n",
    "# Enable Flask-Ngrok for running in a notebook or public access\n",
    "run_with_ngrok(app)  # This will automatically use ngrok and expose the app\n",
    "\n",
    "@app.route('/predict', methods=['POST'])\n",
    "def predict():\n",
    "    data = request.json\n",
    "    try:\n",
    "        # Extract input features\n",
    "        molar_mass = float(data['molar_mass'])\n",
    "        number_of_atoms = float(data['number_of_atoms'])\n",
    "        temperature = float(data['temperature'])\n",
    "        concentration = float(data['concentration'])\n",
    "        \n",
    "        # Prepare input for the model\n",
    "        input_features = np.array([[molar_mass, number_of_atoms, temperature, concentration]])\n",
    "        \n",
    "        # Predict heat capacity\n",
    "        prediction = model.predict(input_features)[0]\n",
    "        \n",
    "        return jsonify({\"heat_capacity\": prediction})\n",
    "    except Exception as e:\n",
    "        return jsonify({\"error\": str(e)}), 400\n",
    "\n",
    "@app.route('/greet', methods=['GET'])\n",
    "def greet():\n",
    "    return jsonify({\"message\": \"running\"}), 200\n",
    "\n",
    "# Run the app, flask-ngrok will handle the host and port\n",
    "if __name__ == '__main__':\n",
    "    app.run()  # Let flask-ngrok handle the host and port\n",
    "\n",
    "\n"
   ]
  }
 ],
 "metadata": {
  "kernelspec": {
   "display_name": "new_env",
   "language": "python",
   "name": "python3"
  },
  "language_info": {
   "codemirror_mode": {
    "name": "ipython",
    "version": 3
   },
   "file_extension": ".py",
   "mimetype": "text/x-python",
   "name": "python",
   "nbconvert_exporter": "python",
   "pygments_lexer": "ipython3",
   "version": "3.12.8"
  }
 },
 "nbformat": 4,
 "nbformat_minor": 2
}
